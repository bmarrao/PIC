{
 "cells": [
  {
   "cell_type": "code",
   "execution_count": 13,
   "id": "2ab5e2fb",
   "metadata": {},
   "outputs": [],
   "source": [
    "import qiskit.tools.jupyter\n",
    "from qiskit import QuantumCircuit, ClassicalRegister, QuantumRegister, Aer, execute\n",
    "from qiskit.tools.visualization import plot_histogram, plot_distribution\n",
    "from qiskit.circuit.library import MCMT\n",
    "from qiskit.circuit.classicalfunction.boolean_expression import BooleanExpression\n",
    "from qiskit.algorithms import Grover, AmplificationProblem\n",
    "from qiskit.utils import QuantumInstance\n",
    "\n",
    "import matplotlib.pyplot as plt\n",
    "import numpy as np"
   ]
  },
  {
   "cell_type": "code",
   "execution_count": 14,
   "id": "8da5d0dd",
   "metadata": {},
   "outputs": [],
   "source": [
    "def execute_circuit(qc, shots=1024, decimal=False, reversed=False):\n",
    "    \n",
    "    #define backend\n",
    "    device = Aer.get_backend('qasm_simulator')\n",
    "    #get counts\n",
    "    counts = execute(qc, device ,shots=shots).result().get_counts()\n",
    "    \n",
    "    if decimal:\n",
    "        if reversed:\n",
    "            counts = dict((int(a[::-1],2),b) for (a,b) in counts.items())\n",
    "        else:\n",
    "            counts = dict((int(a,2),b) for (a,b) in counts.items())\n",
    "    else:\n",
    "        if reversed:\n",
    "            counts = dict((a[::-1],b) for (a,b) in counts.items())\n",
    "        else:\n",
    "            counts = dict((a,b) for (a,b) in counts.items())\n",
    "\n",
    "    return counts"
   ]
  },
  {
   "cell_type": "markdown",
   "id": "8178eef7",
   "metadata": {},
   "source": [
    "f(v1,v2,v3) = ( ¬v1 ∨ ¬v2 ∨ ¬v3) ∧ (v1 ∨ ¬v2 ∨ v3) ∧ (v1 ∨ v2 ∨ ¬v3) ∧ (v1 ∨ ¬v2 ∨ ¬v3) ∧ ( ¬v1 ∨ v2 ∨ v3)"
   ]
  },
  {
   "cell_type": "code",
   "execution_count": 89,
   "id": "17c197df",
   "metadata": {},
   "outputs": [],
   "source": [
    "expression = '''\n",
    "p cnf 3 7\n",
    "-1 -2 -3 0\n",
    "1 -2 3 0\n",
    "1 2 -3 0\n",
    "1 -2 -3 0\n",
    "-1 2 3 0\n",
    "1 2 3 0\n",
    "-1 2 -3 0\n",
    "'''\n",
    "\n"
   ]
  },
  {
   "cell_type": "code",
   "execution_count": 90,
   "id": "29950ac7",
   "metadata": {},
   "outputs": [
    {
     "data": {
      "image/png": "[encoded data removed]",
      "text/plain": [
       "<Figure size 700x500 with 1 Axes>"
      ]
     },
     "execution_count": 90,
     "metadata": {},
     "output_type": "execute_result"
    }
   ],
   "source": [
    "def func (expression):\n",
    "    lines = expression.split(\"\\n\")\n",
    "    n_qibits = int(lines[1].split(\" \")[2])\n",
    "    n_formulas = int(lines[1].split(\" \")[3])\n",
    "\n",
    "    qr = QuantumRegister(n_qibits, name = \"psi\")\n",
    "    ancilla = QuantumRegister(n_formulas, name = \"ancilla\")\n",
    "    result = QuantumRegister(1,name = \"result\")\n",
    "    cr = ClassicalRegister(n_qibits)\n",
    "\n",
    "    qc = QuantumCircuit(qr,ancilla,result,cr)\n",
    "\n",
    "    #uniform superposition qr\n",
    "\n",
    "    qc.h(qr)\n",
    "    \n",
    "\n",
    "    #|-> state ancilla\n",
    "    qc.x(ancilla)\n",
    "    qc.h(ancilla)\n",
    "    elements = 2**n_qibits\n",
    "\n",
    "    iterations= int(np.floor(np.pi/4 * np.sqrt(elements)))\n",
    "\n",
    "    for j in range(iterations):\n",
    "\n",
    "        qc.barrier()\n",
    "        #Oracle\n",
    "        for i in range(n_formulas):\n",
    "            #Oracle\n",
    "            line = lines[i+2].split(\" \")\n",
    "            for j in range(n_qibits):\n",
    "                if line[j][0] == '-':\n",
    "                    qc.x(qr[j])\n",
    "            qc.mct(qr,ancilla[i])\n",
    "\n",
    "            qc.barrier()\n",
    "        qc.barrier()\n",
    "        \n",
    "        qc.mct(ancilla,result)\n",
    "        \n",
    "        qc.barrier()\n",
    "\n",
    "        #diffusion operator\n",
    "\n",
    "        qc.barrier()\n",
    "\n",
    "        qc.h(qr)\n",
    "        qc.x(qr)\n",
    "        c3z= MCMT('cz',n_qibits-1,1)\n",
    "        qc.compose(c3z,qubits=range(n_qibits),inplace=True)\n",
    "        qc.x(qr)\n",
    "        qc.h(qr)\n",
    "        \n",
    "        qc.barrier()\n",
    "        qc.x(ancilla)\n",
    "        qc.mct(ancilla,result)\n",
    "        \n",
    "        qc.barrier()\n",
    "    \n",
    "\n",
    "    #for i in range(2,len(lines)):\n",
    "    return qc,qr,cr\n",
    "qc,qr,cr = func(expression)\n",
    "qc.measure(qr,cr)\n",
    "counts = execute_circuit(qc,shots= 100000)\n",
    "plot_histogram(counts)\n"
   ]
  },
  {
   "cell_type": "code",
   "execution_count": null,
   "id": "1b01def2",
   "metadata": {},
   "outputs": [],
   "source": [
    "qc.draw(output=\"mpl\")"
   ]
  },
  {
   "cell_type": "code",
   "execution_count": null,
   "id": "7cd6c8e2",
   "metadata": {},
   "outputs": [],
   "source": [
    "\n",
    "expression = '(~v1 | ~v2 | ~v3) & (v1 | ~(v2) | v3)&  (v1 | v2 | ~(v3))& (v1 | ~(v2) | ~(v3))&  (~(v1) | v2 |v3)'\n",
    "expression = BooleanExpression(expression)\n",
    "def synthesizer(boolean_expression):\n",
    "                from tweedledum.synthesis import pkrm_synth  # pylint: disable=import-error\n",
    "                from qiskit.circuit.classicalfunction.utils import tweedledum2qiskit\n",
    "\n",
    "                truth_table = boolean_expression._tweedledum_bool_expression.truth_table(\n",
    "                    output_bit=0\n",
    "                )\n",
    "                tweedledum_circuit = pkrm_synth(truth_table, {\"pkrm_synth\": {\"phase_esop\": True}})\n",
    "                return tweedledum2qiskit(tweedledum_circuit)\n",
    "v = Verifier('dimacs.txt')\n",
    "\n",
    "\n",
    "oracle = expression.synth(synthesizer=synthesizer)\n",
    "\n",
    "'''\n",
    "backend = Aer.get_backend('aer_simulator')\n",
    "quantum_instance = QuantumInstance(backend, shots=1024)\n",
    "problem = AmplificationProblem(oracle=oracle,is_good_state=v.is_correct)\n",
    "\n",
    "# Use Grover's algorithm to solve the problem\n",
    "grover = Grover(quantum_instance=quantum_instance)\n",
    "result = grover.amplify(problem)\n",
    "result.top_measurement\n",
    "'''\n",
    "qr = QuantumRegister(3, name = \"psi\")\n",
    "\n",
    "oracle.draw(output=\"mpl\")\n",
    "qc = QuantumCircuit(qr)\n",
    "qc.h(qr)\n",
    "\n",
    "qc = qc.compose(oracle)\n",
    "qc.h(qr)\n",
    "qc.measure_all()\n",
    "counts = execute_circuit(qc)\n",
    "plot_histogram(counts)\n"
   ]
  },
  {
   "cell_type": "code",
   "execution_count": null,
   "id": "1950af14",
   "metadata": {},
   "outputs": [],
   "source": []
  }
 ],
 "metadata": {
  "kernelspec": {
   "display_name": "Python 3 (ipykernel)",
   "language": "python",
   "name": "python3"
  },
  "language_info": {
   "codemirror_mode": {
    "name": "ipython",
    "version": 3
   },
   "file_extension": ".py",
   "mimetype": "text/x-python",
   "name": "python",
   "nbconvert_exporter": "python",
   "pygments_lexer": "ipython3",
   "version": "3.10.6"
  }
 },
 "nbformat": 4,
 "nbformat_minor": 5
}
